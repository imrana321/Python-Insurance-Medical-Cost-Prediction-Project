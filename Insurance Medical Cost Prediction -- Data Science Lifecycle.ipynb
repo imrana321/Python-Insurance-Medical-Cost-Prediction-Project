{
 "cells": [
  {
   "cell_type": "markdown",
   "id": "ce179669",
   "metadata": {},
   "source": [
    "## ------ Data Science Lifecycle -------"
   ]
  },
  {
   "cell_type": "markdown",
   "id": "b44f0d50",
   "metadata": {},
   "source": [
    "- Step 1: Data Loading\n",
    "- Step 2: Exploratory Data Analysis\n",
    "- Step 3: Data Preprocessing"
   ]
  },
  {
   "cell_type": "markdown",
   "id": "05963c12",
   "metadata": {},
   "source": [
    "## >>>> Case Study: Insurance Medical Cost Prediction <<<<\n",
    "\n",
    "**Objective:**\n",
    "\n",
    "In this exercise, you will explore a dataset of insurance data detailed below. We will build a model to predict the cost of treatment for individuals based on their age, sex, bmi and other information.\n",
    "\n",
    "\n",
    "## Dataset Description\n",
    "\n",
    "\n",
    "*   **age**: age of primary beneficiary\n",
    "*   **sex**: insurance contractor gender, female, male\n",
    "*   **bmi**: Body mass index, providing an understanding of body, weights that are relatively high or low relative to height,\n",
    "objective index of body weight (kg / m ^ 2) using the ratio of height to weight, ideally 18.5 to 24.9\n",
    "*   **children**: Number of children covered by health insurance / Number of dependents\n",
    "*   **smoker**: Smoking\n",
    "*   **region**: the beneficiary's residential area in the US, northeast, southeast, southwest, northwest.\n",
    "*   **charges**: Individual medical costs billed by health insurance"
   ]
  },
  {
   "cell_type": "markdown",
   "id": "beec000a",
   "metadata": {},
   "source": [
    "## ======= STEP 1: DATA LOADING ========"
   ]
  },
  {
   "cell_type": "markdown",
   "id": "1cc1cd1d",
   "metadata": {},
   "source": [
    "#### Import Necessary Python Modules:\n",
    "\n",
    "We will need the following libraries:\n",
    " - Numpy — for scientific computing (e.g., linear algebra (vectors & matrices)).\n",
    " - Pandas — providing high-performance, easy-to-use data reading, manipulation, and analysis.\n",
    " - Matplotlib — plotting & visualization."
   ]
  },
  {
   "cell_type": "code",
   "execution_count": 1,
   "id": "290948ba",
   "metadata": {},
   "outputs": [],
   "source": [
    "import pandas as pd\n",
    "import numpy as np\n",
    "import matplotlib.pyplot as plt"
   ]
  },
  {
   "cell_type": "markdown",
   "id": "01a4d96e",
   "metadata": {},
   "source": [
    "#### Load The Data:"
   ]
  },
  {
   "cell_type": "code",
   "execution_count": 2,
   "id": "9766ac2c",
   "metadata": {},
   "outputs": [
    {
     "data": {
      "text/html": [
       "<div>\n",
       "<style scoped>\n",
       "    .dataframe tbody tr th:only-of-type {\n",
       "        vertical-align: middle;\n",
       "    }\n",
       "\n",
       "    .dataframe tbody tr th {\n",
       "        vertical-align: top;\n",
       "    }\n",
       "\n",
       "    .dataframe thead th {\n",
       "        text-align: right;\n",
       "    }\n",
       "</style>\n",
       "<table border=\"1\" class=\"dataframe\">\n",
       "  <thead>\n",
       "    <tr style=\"text-align: right;\">\n",
       "      <th></th>\n",
       "      <th>age</th>\n",
       "      <th>sex</th>\n",
       "      <th>bmi</th>\n",
       "      <th>children</th>\n",
       "      <th>smoker</th>\n",
       "      <th>region</th>\n",
       "      <th>charges</th>\n",
       "    </tr>\n",
       "  </thead>\n",
       "  <tbody>\n",
       "    <tr>\n",
       "      <th>0</th>\n",
       "      <td>19</td>\n",
       "      <td>female</td>\n",
       "      <td>27.900</td>\n",
       "      <td>0</td>\n",
       "      <td>yes</td>\n",
       "      <td>southwest</td>\n",
       "      <td>16884.92400</td>\n",
       "    </tr>\n",
       "    <tr>\n",
       "      <th>1</th>\n",
       "      <td>18</td>\n",
       "      <td>male</td>\n",
       "      <td>33.770</td>\n",
       "      <td>1</td>\n",
       "      <td>no</td>\n",
       "      <td>southeast</td>\n",
       "      <td>1725.55230</td>\n",
       "    </tr>\n",
       "    <tr>\n",
       "      <th>2</th>\n",
       "      <td>28</td>\n",
       "      <td>male</td>\n",
       "      <td>33.000</td>\n",
       "      <td>3</td>\n",
       "      <td>no</td>\n",
       "      <td>southeast</td>\n",
       "      <td>4449.46200</td>\n",
       "    </tr>\n",
       "    <tr>\n",
       "      <th>3</th>\n",
       "      <td>33</td>\n",
       "      <td>male</td>\n",
       "      <td>22.705</td>\n",
       "      <td>0</td>\n",
       "      <td>no</td>\n",
       "      <td>northwest</td>\n",
       "      <td>21984.47061</td>\n",
       "    </tr>\n",
       "    <tr>\n",
       "      <th>4</th>\n",
       "      <td>32</td>\n",
       "      <td>male</td>\n",
       "      <td>28.880</td>\n",
       "      <td>0</td>\n",
       "      <td>no</td>\n",
       "      <td>northwest</td>\n",
       "      <td>3866.85520</td>\n",
       "    </tr>\n",
       "  </tbody>\n",
       "</table>\n",
       "</div>"
      ],
      "text/plain": [
       "   age     sex     bmi  children smoker     region      charges\n",
       "0   19  female  27.900         0    yes  southwest  16884.92400\n",
       "1   18    male  33.770         1     no  southeast   1725.55230\n",
       "2   28    male  33.000         3     no  southeast   4449.46200\n",
       "3   33    male  22.705         0     no  northwest  21984.47061\n",
       "4   32    male  28.880         0     no  northwest   3866.85520"
      ]
     },
     "execution_count": 2,
     "metadata": {},
     "output_type": "execute_result"
    }
   ],
   "source": [
    "data = pd.read_csv(r\"D:\\0. DATA Science\\MA in Data Science\\Class Lessons\\1. [Module 1] -- PRE PROGRAM CONTENT --- Python - [Jan 4 - Mar 19] - 2023\\00. Portfolio Files\\Python Insurance Medical Cost Prediction Project\\Insurance Medical Cost Prediction Dataset.csv\")\n",
    "\n",
    "data.head()"
   ]
  },
  {
   "cell_type": "markdown",
   "id": "ebb39501",
   "metadata": {},
   "source": [
    "#### Read & Visualize Data:\n",
    "\n",
    "Data now is stored on disk in a csv (Comma Separated Values) file. To load the data to our code, we use **pandas** module, more specifically, the **read_csv** function."
   ]
  },
  {
   "cell_type": "markdown",
   "id": "f8f619a7",
   "metadata": {},
   "source": [
    "## ======= STEP 2: EXPLORATORY DATA ANALYSIS (EDA) ========"
   ]
  },
  {
   "cell_type": "markdown",
   "id": "ef85a43b",
   "metadata": {},
   "source": [
    "**Task:** how many rows & columns in our dataset"
   ]
  },
  {
   "cell_type": "code",
   "execution_count": 4,
   "id": "1337549c",
   "metadata": {},
   "outputs": [
    {
     "data": {
      "text/plain": [
       "(1338, 7)"
      ]
     },
     "execution_count": 4,
     "metadata": {},
     "output_type": "execute_result"
    }
   ],
   "source": [
    "data.shape"
   ]
  },
  {
   "cell_type": "code",
   "execution_count": 5,
   "id": "1fe1a889",
   "metadata": {},
   "outputs": [
    {
     "name": "stdout",
     "output_type": "stream",
     "text": [
      "There are 1338 rows and 7 columns\n"
     ]
    }
   ],
   "source": [
    "rows = data.shape[0]\n",
    "columns = data.shape[1]\n",
    "\n",
    "print(\"There are {} rows and {} columns\".format(rows,columns))"
   ]
  },
  {
   "cell_type": "markdown",
   "id": "5ea0bcf3",
   "metadata": {},
   "source": [
    "Using the function **info()**, we can check:\n",
    " - data types (int, float, or object (e.g., string))\n",
    " - missing values\n",
    " - memory usage\n",
    " - number of rows and columns"
   ]
  },
  {
   "cell_type": "code",
   "execution_count": 6,
   "id": "61a81d70",
   "metadata": {},
   "outputs": [
    {
     "name": "stdout",
     "output_type": "stream",
     "text": [
      "<class 'pandas.core.frame.DataFrame'>\n",
      "RangeIndex: 1338 entries, 0 to 1337\n",
      "Data columns (total 7 columns):\n",
      " #   Column    Non-Null Count  Dtype  \n",
      "---  ------    --------------  -----  \n",
      " 0   age       1338 non-null   int64  \n",
      " 1   sex       1338 non-null   object \n",
      " 2   bmi       1335 non-null   float64\n",
      " 3   children  1338 non-null   int64  \n",
      " 4   smoker    1338 non-null   object \n",
      " 5   region    1338 non-null   object \n",
      " 6   charges   1338 non-null   float64\n",
      "dtypes: float64(2), int64(2), object(3)\n",
      "memory usage: 73.3+ KB\n"
     ]
    }
   ],
   "source": [
    "data.info()"
   ]
  },
  {
   "cell_type": "markdown",
   "id": "f7f6e9b3",
   "metadata": {},
   "source": [
    "Using the function **describe()**, we can check the mean, standard deviation, maximum, and minimum of each numerical feature (column)"
   ]
  },
  {
   "cell_type": "code",
   "execution_count": 7,
   "id": "4353c04f",
   "metadata": {},
   "outputs": [
    {
     "data": {
      "text/html": [
       "<div>\n",
       "<style scoped>\n",
       "    .dataframe tbody tr th:only-of-type {\n",
       "        vertical-align: middle;\n",
       "    }\n",
       "\n",
       "    .dataframe tbody tr th {\n",
       "        vertical-align: top;\n",
       "    }\n",
       "\n",
       "    .dataframe thead th {\n",
       "        text-align: right;\n",
       "    }\n",
       "</style>\n",
       "<table border=\"1\" class=\"dataframe\">\n",
       "  <thead>\n",
       "    <tr style=\"text-align: right;\">\n",
       "      <th></th>\n",
       "      <th>age</th>\n",
       "      <th>bmi</th>\n",
       "      <th>children</th>\n",
       "      <th>charges</th>\n",
       "    </tr>\n",
       "  </thead>\n",
       "  <tbody>\n",
       "    <tr>\n",
       "      <th>count</th>\n",
       "      <td>1338.000000</td>\n",
       "      <td>1335.000000</td>\n",
       "      <td>1338.000000</td>\n",
       "      <td>1338.000000</td>\n",
       "    </tr>\n",
       "    <tr>\n",
       "      <th>mean</th>\n",
       "      <td>39.207025</td>\n",
       "      <td>30.661423</td>\n",
       "      <td>1.094918</td>\n",
       "      <td>13270.422265</td>\n",
       "    </tr>\n",
       "    <tr>\n",
       "      <th>std</th>\n",
       "      <td>14.049960</td>\n",
       "      <td>6.101038</td>\n",
       "      <td>1.205493</td>\n",
       "      <td>12110.011237</td>\n",
       "    </tr>\n",
       "    <tr>\n",
       "      <th>min</th>\n",
       "      <td>18.000000</td>\n",
       "      <td>15.960000</td>\n",
       "      <td>0.000000</td>\n",
       "      <td>1121.873900</td>\n",
       "    </tr>\n",
       "    <tr>\n",
       "      <th>25%</th>\n",
       "      <td>27.000000</td>\n",
       "      <td>26.302500</td>\n",
       "      <td>0.000000</td>\n",
       "      <td>4740.287150</td>\n",
       "    </tr>\n",
       "    <tr>\n",
       "      <th>50%</th>\n",
       "      <td>39.000000</td>\n",
       "      <td>30.400000</td>\n",
       "      <td>1.000000</td>\n",
       "      <td>9382.033000</td>\n",
       "    </tr>\n",
       "    <tr>\n",
       "      <th>75%</th>\n",
       "      <td>51.000000</td>\n",
       "      <td>34.687500</td>\n",
       "      <td>2.000000</td>\n",
       "      <td>16639.912515</td>\n",
       "    </tr>\n",
       "    <tr>\n",
       "      <th>max</th>\n",
       "      <td>64.000000</td>\n",
       "      <td>53.130000</td>\n",
       "      <td>5.000000</td>\n",
       "      <td>63770.428010</td>\n",
       "    </tr>\n",
       "  </tbody>\n",
       "</table>\n",
       "</div>"
      ],
      "text/plain": [
       "               age          bmi     children       charges\n",
       "count  1338.000000  1335.000000  1338.000000   1338.000000\n",
       "mean     39.207025    30.661423     1.094918  13270.422265\n",
       "std      14.049960     6.101038     1.205493  12110.011237\n",
       "min      18.000000    15.960000     0.000000   1121.873900\n",
       "25%      27.000000    26.302500     0.000000   4740.287150\n",
       "50%      39.000000    30.400000     1.000000   9382.033000\n",
       "75%      51.000000    34.687500     2.000000  16639.912515\n",
       "max      64.000000    53.130000     5.000000  63770.428010"
      ]
     },
     "execution_count": 7,
     "metadata": {},
     "output_type": "execute_result"
    }
   ],
   "source": [
    "data.describe()"
   ]
  },
  {
   "cell_type": "markdown",
   "id": "6e9930bc",
   "metadata": {},
   "source": [
    "#### Distribution of Charges:\n",
    "\n",
    "First, let's look at the distribution of charges. This will help us to know how much patients spend on treatment on average."
   ]
  },
  {
   "cell_type": "code",
   "execution_count": 8,
   "id": "9cfde4f6",
   "metadata": {},
   "outputs": [
    {
     "data": {
      "text/html": [
       "<div>\n",
       "<style scoped>\n",
       "    .dataframe tbody tr th:only-of-type {\n",
       "        vertical-align: middle;\n",
       "    }\n",
       "\n",
       "    .dataframe tbody tr th {\n",
       "        vertical-align: top;\n",
       "    }\n",
       "\n",
       "    .dataframe thead th {\n",
       "        text-align: right;\n",
       "    }\n",
       "</style>\n",
       "<table border=\"1\" class=\"dataframe\">\n",
       "  <thead>\n",
       "    <tr style=\"text-align: right;\">\n",
       "      <th></th>\n",
       "      <th>age</th>\n",
       "      <th>sex</th>\n",
       "      <th>bmi</th>\n",
       "      <th>children</th>\n",
       "      <th>smoker</th>\n",
       "      <th>region</th>\n",
       "      <th>charges</th>\n",
       "    </tr>\n",
       "  </thead>\n",
       "  <tbody>\n",
       "    <tr>\n",
       "      <th>0</th>\n",
       "      <td>19</td>\n",
       "      <td>female</td>\n",
       "      <td>27.900</td>\n",
       "      <td>0</td>\n",
       "      <td>yes</td>\n",
       "      <td>southwest</td>\n",
       "      <td>16884.92400</td>\n",
       "    </tr>\n",
       "    <tr>\n",
       "      <th>1</th>\n",
       "      <td>18</td>\n",
       "      <td>male</td>\n",
       "      <td>33.770</td>\n",
       "      <td>1</td>\n",
       "      <td>no</td>\n",
       "      <td>southeast</td>\n",
       "      <td>1725.55230</td>\n",
       "    </tr>\n",
       "    <tr>\n",
       "      <th>2</th>\n",
       "      <td>28</td>\n",
       "      <td>male</td>\n",
       "      <td>33.000</td>\n",
       "      <td>3</td>\n",
       "      <td>no</td>\n",
       "      <td>southeast</td>\n",
       "      <td>4449.46200</td>\n",
       "    </tr>\n",
       "    <tr>\n",
       "      <th>3</th>\n",
       "      <td>33</td>\n",
       "      <td>male</td>\n",
       "      <td>22.705</td>\n",
       "      <td>0</td>\n",
       "      <td>no</td>\n",
       "      <td>northwest</td>\n",
       "      <td>21984.47061</td>\n",
       "    </tr>\n",
       "    <tr>\n",
       "      <th>4</th>\n",
       "      <td>32</td>\n",
       "      <td>male</td>\n",
       "      <td>28.880</td>\n",
       "      <td>0</td>\n",
       "      <td>no</td>\n",
       "      <td>northwest</td>\n",
       "      <td>3866.85520</td>\n",
       "    </tr>\n",
       "  </tbody>\n",
       "</table>\n",
       "</div>"
      ],
      "text/plain": [
       "   age     sex     bmi  children smoker     region      charges\n",
       "0   19  female  27.900         0    yes  southwest  16884.92400\n",
       "1   18    male  33.770         1     no  southeast   1725.55230\n",
       "2   28    male  33.000         3     no  southeast   4449.46200\n",
       "3   33    male  22.705         0     no  northwest  21984.47061\n",
       "4   32    male  28.880         0     no  northwest   3866.85520"
      ]
     },
     "execution_count": 8,
     "metadata": {},
     "output_type": "execute_result"
    }
   ],
   "source": [
    "data.head()"
   ]
  },
  {
   "cell_type": "markdown",
   "id": "aeab9d81",
   "metadata": {},
   "source": [
    "#### Correlation between smoking and cost of treatment\n",
    "\n",
    "Let's see if smokers spend more or less on treatment than non-smokers!\n",
    "\n",
    "First, let's see how many smokers vs non-smokers we have."
   ]
  },
  {
   "cell_type": "code",
   "execution_count": 6,
   "id": "18f2c4a9",
   "metadata": {},
   "outputs": [
    {
     "data": {
      "image/png": "[encoded data removed]",
      "text/plain": [
       "<Figure size 576x432 with 1 Axes>"
      ]
     },
     "metadata": {
      "needs_background": "light"
     },
     "output_type": "display_data"
    }
   ],
   "source": [
    "plt.figure(figsize=(8, 6))\n",
    "plt.hist(data[\"charges\"], color='c', edgecolor='black')\n",
    "\n",
    "plt.title(\"Distribution of Charges\")\n",
    "plt.xlabel(\"Charges\")\n",
    "plt.ylabel(\"Frequency\")\n",
    "\n",
    "plt.show()"
   ]
  },
  {
   "cell_type": "markdown",
   "id": "3bdd6520",
   "metadata": {},
   "source": [
    "Smoking patients spend more on treatment."
   ]
  },
  {
   "cell_type": "markdown",
   "id": "5ccb3de3",
   "metadata": {},
   "source": [
    "#### Correlation Between Age and Cost of Treatment"
   ]
  },
  {
   "cell_type": "markdown",
   "id": "9d55bf18",
   "metadata": {},
   "source": [
    "First, let's look at the distribution of age in our dataset, and then look at how age affects the cost of treatment."
   ]
  },
  {
   "cell_type": "code",
   "execution_count": 11,
   "id": "6fc61ad0",
   "metadata": {},
   "outputs": [
    {
     "name": "stdout",
     "output_type": "stream",
     "text": [
      "There are 274 smokers and 1064 non-smokers.\n"
     ]
    }
   ],
   "source": [
    "#Select Smokers#\n",
    "smokers = data[(data.smoker == \"yes\")]\n",
    "\n",
    "#Select Nom-Smokers#\n",
    "non_smokers = data[(data.smoker == \"no\")]\n",
    "\n",
    "print(\"There are {} smokers and {} non-smokers.\".format(smokers.shape[0], non_smokers.shape[0]))"
   ]
  },
  {
   "cell_type": "markdown",
   "id": "c2d538ba",
   "metadata": {},
   "source": [
    "Now, let's plot the charges for both."
   ]
  },
  {
   "cell_type": "code",
   "execution_count": 14,
   "id": "d35d591d",
   "metadata": {},
   "outputs": [
    {
     "data": {
      "image/png": "[encoded data removed]",
      "text/plain": [
       "<Figure size 864x360 with 2 Axes>"
      ]
     },
     "metadata": {
      "needs_background": "light"
     },
     "output_type": "display_data"
    }
   ],
   "source": [
    "# Create the Figure\n",
    "fig = plt.figure(figsize=(12, 5))\n",
    "\n",
    "# Add first sub-plot for smokers\n",
    "ax1 = fig.add_subplot(121)\n",
    "# Draw distribution of charges for smokers\n",
    "ax1.hist(smokers[\"charges\"], color='c', edgecolor='black')\n",
    "# Set sub-plot title\n",
    "ax1.set_title(\"Distribution of Charges for Smokers\")\n",
    "ax1.set_xlabel(\"Charges\")\n",
    "ax1.set_ylabel(\"Frequency\")\n",
    "\n",
    "\n",
    "# Add second sub-plot for non-smokers\n",
    "ax2 = fig.add_subplot(122)\n",
    "# Draw distribution of charges for non-smokers\n",
    "ax2.hist(non_smokers[\"charges\"], color='c', edgecolor='black')\n",
    "# Set sub-plot title\n",
    "ax2.set_title(\"Distribution of Charges for Non-Smokers\")\n",
    "ax2.set_xlabel(\"Charges\")\n",
    "ax2.set_ylabel(\"Frequency\")\n",
    "\n",
    "\n",
    "# Show the plots\n",
    "plt.tight_layout()\n",
    "plt.show()"
   ]
  },
  {
   "cell_type": "markdown",
   "id": "77ea667c",
   "metadata": {},
   "source": [
    "Smoking patients spend more on treatment."
   ]
  },
  {
   "cell_type": "markdown",
   "id": "7c878c5f",
   "metadata": {},
   "source": [
    "First, let's look at the distribution of age in our dataset, and then look at how age affects the cost of treatment."
   ]
  },
  {
   "cell_type": "code",
   "execution_count": 16,
   "id": "aea24b2a",
   "metadata": {},
   "outputs": [
    {
     "data": {
      "image/png": "[encoded data removed]",
      "text/plain": [
       "<Figure size 432x288 with 1 Axes>"
      ]
     },
     "metadata": {
      "needs_background": "light"
     },
     "output_type": "display_data"
    }
   ],
   "source": [
    "#plot histogram for age distribution#\n",
    "\n",
    "plt.hist(data[\"age\"], color='c', edgecolor='black')\n",
    "plt.title(\"Age Distribution\")\n",
    "\n",
    "plt.xlabel(\"Age\")\n",
    "plt.ylabel(\"Frequency\")\n",
    "\n",
    "plt.show()"
   ]
  },
  {
   "cell_type": "code",
   "execution_count": 17,
   "id": "43c24485",
   "metadata": {},
   "outputs": [
    {
     "data": {
      "image/png": "[encoded data removed]",
      "text/plain": [
       "<Figure size 432x288 with 1 Axes>"
      ]
     },
     "metadata": {
      "needs_background": "light"
     },
     "output_type": "display_data"
    }
   ],
   "source": [
    "#Draw a scatter plot to show correlation between age and charges#\n",
    "\n",
    "\n",
    "plt.scatter(data[\"age\"], data[\"charges\"], color='c')\n",
    "plt.title(\"Cost of Treatment for Different Ages\")\n",
    "plt.xlabel(\"Age\")\n",
    "plt.ylabel(\"Charges\")\n",
    "plt.show()\n"
   ]
  },
  {
   "cell_type": "markdown",
   "id": "68636e00",
   "metadata": {},
   "source": [
    "Let's check if smoking also affects this curve.\n",
    "\n",
    "**Task**: show a scatter plot with the correlation between age and cost of treatment while showing smokers in red and non-smokers in blue"
   ]
  },
  {
   "cell_type": "code",
   "execution_count": 48,
   "id": "e1d97b29",
   "metadata": {},
   "outputs": [
    {
     "data": {
      "image/png": "[encoded data removed]",
      "text/plain": [
       "<Figure size 432x288 with 1 Axes>"
      ]
     },
     "metadata": {
      "needs_background": "light"
     },
     "output_type": "display_data"
    }
   ],
   "source": [
    "plt.scatter(smokers[\"age\"], smokers[\"charges\"], color=\"yellow\")\n",
    "plt.scatter(non_smokers[\"age\"], non_smokers[\"charges\"], color=\"c\")\n",
    "\n",
    "plt.title(\"Cost of Treatment for Different Ages\")\n",
    "plt.xlabel(\"Age\")\n",
    "plt.ylabel(\"Charges\")\n",
    "plt.show()"
   ]
  },
  {
   "cell_type": "markdown",
   "id": "0cadc72d",
   "metadata": {},
   "source": [
    "## Correlation Between BMI and Cost of Treatment --\n",
    "\n",
    "### Body Mass Index:\n",
    "\n",
    "<img src=\"https://4.bp.blogspot.com/-nBF9Z1tFGhI/W3MqbdD0j7I/AAAAAAAAAIs/UdyXTIxsBT8Pl8usABxEK_Fusj5S0SnBQCLcBGAs/s1600/HOW%2BTO%2BCALCULATE%2BBODY%2BMASS%2BINDEX%2BBMI.jpg\" alt=\"Body Mass Index\" width=\"300\"/>\n",
    "\n",
    "### BMI Chart:\n",
    "\n",
    "<img src=\"https://images.squarespace-cdn.com/content/v1/56fae4be1d07c0c393d8faa5/1551103826935-HCXS8U78500C06GQ1PLJ/ke17ZwdGBToddI8pDm48kNMeyc_nGAbaGjp3EBJ2o08UqsxRUqqbr1mOJYKfIPR7LoDQ9mXPOjoJoqy81S2I8N_N4V1vUb5AoIIIbLZhVYxCRW4BPu10St3TBAUQYVKckzCNDuUMr1wTvf7-fqd2hrX5O2-_PoO3UJ2jNU1VzJbe6G9-F0r9BTATNUu-NBMy/BMI+Chart.jpg\" alt=\"BMI Chart\" width=\"700\"/>\n",
    "\n",
    "First, let's look at the distribution of BMI in our dataset, and then look at how it affects the cost of treatment.\n"
   ]
  },
  {
   "cell_type": "code",
   "execution_count": 38,
   "id": "a1a97f16",
   "metadata": {},
   "outputs": [
    {
     "data": {
      "text/html": [
       "<div>\n",
       "<style scoped>\n",
       "    .dataframe tbody tr th:only-of-type {\n",
       "        vertical-align: middle;\n",
       "    }\n",
       "\n",
       "    .dataframe tbody tr th {\n",
       "        vertical-align: top;\n",
       "    }\n",
       "\n",
       "    .dataframe thead th {\n",
       "        text-align: right;\n",
       "    }\n",
       "</style>\n",
       "<table border=\"1\" class=\"dataframe\">\n",
       "  <thead>\n",
       "    <tr style=\"text-align: right;\">\n",
       "      <th></th>\n",
       "      <th>age</th>\n",
       "      <th>sex</th>\n",
       "      <th>bmi</th>\n",
       "      <th>children</th>\n",
       "      <th>smoker</th>\n",
       "      <th>region</th>\n",
       "      <th>charges</th>\n",
       "    </tr>\n",
       "  </thead>\n",
       "  <tbody>\n",
       "    <tr>\n",
       "      <th>0</th>\n",
       "      <td>19</td>\n",
       "      <td>female</td>\n",
       "      <td>27.900</td>\n",
       "      <td>0</td>\n",
       "      <td>yes</td>\n",
       "      <td>southwest</td>\n",
       "      <td>16884.92400</td>\n",
       "    </tr>\n",
       "    <tr>\n",
       "      <th>1</th>\n",
       "      <td>18</td>\n",
       "      <td>male</td>\n",
       "      <td>33.770</td>\n",
       "      <td>1</td>\n",
       "      <td>no</td>\n",
       "      <td>southeast</td>\n",
       "      <td>1725.55230</td>\n",
       "    </tr>\n",
       "    <tr>\n",
       "      <th>2</th>\n",
       "      <td>28</td>\n",
       "      <td>male</td>\n",
       "      <td>33.000</td>\n",
       "      <td>3</td>\n",
       "      <td>no</td>\n",
       "      <td>southeast</td>\n",
       "      <td>4449.46200</td>\n",
       "    </tr>\n",
       "    <tr>\n",
       "      <th>3</th>\n",
       "      <td>33</td>\n",
       "      <td>male</td>\n",
       "      <td>22.705</td>\n",
       "      <td>0</td>\n",
       "      <td>no</td>\n",
       "      <td>northwest</td>\n",
       "      <td>21984.47061</td>\n",
       "    </tr>\n",
       "    <tr>\n",
       "      <th>4</th>\n",
       "      <td>32</td>\n",
       "      <td>male</td>\n",
       "      <td>28.880</td>\n",
       "      <td>0</td>\n",
       "      <td>no</td>\n",
       "      <td>northwest</td>\n",
       "      <td>3866.85520</td>\n",
       "    </tr>\n",
       "  </tbody>\n",
       "</table>\n",
       "</div>"
      ],
      "text/plain": [
       "   age     sex     bmi  children smoker     region      charges\n",
       "0   19  female  27.900         0    yes  southwest  16884.92400\n",
       "1   18    male  33.770         1     no  southeast   1725.55230\n",
       "2   28    male  33.000         3     no  southeast   4449.46200\n",
       "3   33    male  22.705         0     no  northwest  21984.47061\n",
       "4   32    male  28.880         0     no  northwest   3866.85520"
      ]
     },
     "execution_count": 38,
     "metadata": {},
     "output_type": "execute_result"
    }
   ],
   "source": [
    "data.head()"
   ]
  },
  {
   "cell_type": "code",
   "execution_count": 39,
   "id": "aa24df7a",
   "metadata": {},
   "outputs": [
    {
     "data": {
      "image/png": "[encoded data removed]",
      "text/plain": [
       "<Figure size 432x288 with 1 Axes>"
      ]
     },
     "metadata": {
      "needs_background": "light"
     },
     "output_type": "display_data"
    }
   ],
   "source": [
    "#Draw a histogram to show the distribution of BMI#\n",
    "\n",
    "\n",
    "plt.hist(data[\"bmi\"], color='c', edgecolor='black')\n",
    "\n",
    "plt.title(\"BMI Distribution\")\n",
    "plt.xlabel(\"BMI\")\n",
    "plt.ylabel(\"Frequency\")\n",
    "\n",
    "plt.show()"
   ]
  },
  {
   "cell_type": "markdown",
   "id": "6cd299fc",
   "metadata": {},
   "source": [
    "According to the chart above, obesity starts at BMI = 30. Let's investigate the impact of BMI on cost of treatment. "
   ]
  },
  {
   "cell_type": "code",
   "execution_count": 40,
   "id": "026aebdc",
   "metadata": {},
   "outputs": [
    {
     "name": "stdout",
     "output_type": "stream",
     "text": [
      "There are 705 obese, 630 overweight, 1320 healthy, and 15 underweight individuals.\n"
     ]
    }
   ],
   "source": [
    "#Select Obese People#\n",
    "obese = data[(data[\"bmi\"] >= 30)]\n",
    "\n",
    "\n",
    "#Select Overweight People#\n",
    "overweight = data[(data[\"bmi\"] < 30)]\n",
    "\n",
    "#Select Healthy People#\n",
    "healthy = data[(data[\"bmi\"] >= 18)]\n",
    "\n",
    "#Select Underweight People#\n",
    "underweight = data[(data[\"bmi\"] < 18)]\n",
    "\n",
    "\n",
    "print(\"There are {} obese, {} overweight, {} healthy, and {} underweight individuals.\".format(obese.shape[0], overweight.shape[0], healthy.shape[0], underweight.shape[0]))"
   ]
  },
  {
   "cell_type": "markdown",
   "id": "993ee09a",
   "metadata": {},
   "source": [
    "To compare, let's plot the distribution of charges for all 3 groups (obese, overweight and healthy) in 1 plot, while showing `obese` data in red, `overweight` data in yellow and `healthy` data in green."
   ]
  },
  {
   "cell_type": "code",
   "execution_count": 46,
   "id": "a486b4cf",
   "metadata": {},
   "outputs": [
    {
     "data": {
      "image/png": "[encoded data removed]",
      "text/plain": [
       "<Figure size 504x432 with 1 Axes>"
      ]
     },
     "metadata": {
      "needs_background": "light"
     },
     "output_type": "display_data"
    }
   ],
   "source": [
    "fig = plt.figure(figsize=(7, 6))\n",
    "\n",
    "# Plot histograms with complementary colors\n",
    "plt.hist(obese[\"charges\"], color='c', edgecolor='black', alpha=0.7, label='Obese')\n",
    "plt.hist(overweight[\"charges\"], color='yellow', edgecolor='black', alpha=0.7, label='Overweight')\n",
    "plt.hist(underweight[\"charges\"], color='purple', edgecolor='black', alpha=0.7, label='Underweight')\n",
    "\n",
    "plt.title(\"Charges Distribution\")\n",
    "plt.xlabel(\"Charges\")\n",
    "plt.ylabel(\"Frequency\")\n",
    "plt.legend(loc='upper right')\n",
    "\n",
    "plt.show()\n"
   ]
  },
  {
   "cell_type": "markdown",
   "id": "5d5a02a0",
   "metadata": {},
   "source": [
    "## ======= STEP 3: DATA PREPROCESSING ======="
   ]
  },
  {
   "cell_type": "markdown",
   "id": "7e3ca531",
   "metadata": {},
   "source": [
    "\"Garbage in, garbage out\". \n",
    "\n",
    "Data should be preprocessed and cleaned to get rid of noisy data. \n",
    "Preprocessing includes:\n",
    " - dealing with missing data\n",
    "   - remove whole rows (if they are not a lot)\n",
    "   - infer (e.g., date of birth & age)\n",
    "   - fill with mean, median, or even 0\n",
    " - removing unsued column(s)\n",
    " - convert categorical (non numerical) data into numerical\n",
    " - normalization: standarize data ranges for all features (e.g., between 0 and 1)\n",
    " \n",
    " \n",
    " \n",
    " Let's start by removing missing data."
   ]
  },
  {
   "cell_type": "code",
   "execution_count": 22,
   "id": "1bf08157",
   "metadata": {},
   "outputs": [
    {
     "data": {
      "text/plain": [
       "age         0\n",
       "sex         0\n",
       "bmi         3\n",
       "children    0\n",
       "smoker      0\n",
       "region      0\n",
       "charges     0\n",
       "dtype: int64"
      ]
     },
     "execution_count": 22,
     "metadata": {},
     "output_type": "execute_result"
    }
   ],
   "source": [
    "#Print how many missing values in the column#\n",
    "\n",
    "data.isnull().sum()"
   ]
  },
  {
   "cell_type": "code",
   "execution_count": 24,
   "id": "c83a3dcc",
   "metadata": {},
   "outputs": [
    {
     "data": {
      "text/plain": [
       "age         0\n",
       "sex         0\n",
       "bmi         0\n",
       "children    0\n",
       "smoker      0\n",
       "region      0\n",
       "charges     0\n",
       "dtype: int64"
      ]
     },
     "execution_count": 24,
     "metadata": {},
     "output_type": "execute_result"
    }
   ],
   "source": [
    "#Drop rows with missing values#\n",
    "\n",
    "data = data.dropna()\n",
    "data.isnull().sum()"
   ]
  },
  {
   "cell_type": "code",
   "execution_count": 25,
   "id": "fedc4c02",
   "metadata": {},
   "outputs": [
    {
     "name": "stdout",
     "output_type": "stream",
     "text": [
      "<class 'pandas.core.frame.DataFrame'>\n",
      "Int64Index: 1335 entries, 0 to 1337\n",
      "Data columns (total 7 columns):\n",
      " #   Column    Non-Null Count  Dtype  \n",
      "---  ------    --------------  -----  \n",
      " 0   age       1335 non-null   int64  \n",
      " 1   sex       1335 non-null   object \n",
      " 2   bmi       1335 non-null   float64\n",
      " 3   children  1335 non-null   int64  \n",
      " 4   smoker    1335 non-null   object \n",
      " 5   region    1335 non-null   object \n",
      " 6   charges   1335 non-null   float64\n",
      "dtypes: float64(2), int64(2), object(3)\n",
      "memory usage: 83.4+ KB\n"
     ]
    }
   ],
   "source": [
    "data.info()"
   ]
  },
  {
   "cell_type": "markdown",
   "id": "f72cf457",
   "metadata": {},
   "source": [
    "#### Remove Unused Columns\n",
    "\n",
    "Let's remove the `region` column since we don't really care about it"
   ]
  },
  {
   "cell_type": "code",
   "execution_count": 26,
   "id": "759f362b",
   "metadata": {},
   "outputs": [
    {
     "data": {
      "text/html": [
       "<div>\n",
       "<style scoped>\n",
       "    .dataframe tbody tr th:only-of-type {\n",
       "        vertical-align: middle;\n",
       "    }\n",
       "\n",
       "    .dataframe tbody tr th {\n",
       "        vertical-align: top;\n",
       "    }\n",
       "\n",
       "    .dataframe thead th {\n",
       "        text-align: right;\n",
       "    }\n",
       "</style>\n",
       "<table border=\"1\" class=\"dataframe\">\n",
       "  <thead>\n",
       "    <tr style=\"text-align: right;\">\n",
       "      <th></th>\n",
       "      <th>age</th>\n",
       "      <th>sex</th>\n",
       "      <th>bmi</th>\n",
       "      <th>children</th>\n",
       "      <th>smoker</th>\n",
       "      <th>region</th>\n",
       "      <th>charges</th>\n",
       "    </tr>\n",
       "  </thead>\n",
       "  <tbody>\n",
       "    <tr>\n",
       "      <th>0</th>\n",
       "      <td>19</td>\n",
       "      <td>female</td>\n",
       "      <td>27.900</td>\n",
       "      <td>0</td>\n",
       "      <td>yes</td>\n",
       "      <td>southwest</td>\n",
       "      <td>16884.92400</td>\n",
       "    </tr>\n",
       "    <tr>\n",
       "      <th>1</th>\n",
       "      <td>18</td>\n",
       "      <td>male</td>\n",
       "      <td>33.770</td>\n",
       "      <td>1</td>\n",
       "      <td>no</td>\n",
       "      <td>southeast</td>\n",
       "      <td>1725.55230</td>\n",
       "    </tr>\n",
       "    <tr>\n",
       "      <th>2</th>\n",
       "      <td>28</td>\n",
       "      <td>male</td>\n",
       "      <td>33.000</td>\n",
       "      <td>3</td>\n",
       "      <td>no</td>\n",
       "      <td>southeast</td>\n",
       "      <td>4449.46200</td>\n",
       "    </tr>\n",
       "    <tr>\n",
       "      <th>3</th>\n",
       "      <td>33</td>\n",
       "      <td>male</td>\n",
       "      <td>22.705</td>\n",
       "      <td>0</td>\n",
       "      <td>no</td>\n",
       "      <td>northwest</td>\n",
       "      <td>21984.47061</td>\n",
       "    </tr>\n",
       "    <tr>\n",
       "      <th>4</th>\n",
       "      <td>32</td>\n",
       "      <td>male</td>\n",
       "      <td>28.880</td>\n",
       "      <td>0</td>\n",
       "      <td>no</td>\n",
       "      <td>northwest</td>\n",
       "      <td>3866.85520</td>\n",
       "    </tr>\n",
       "  </tbody>\n",
       "</table>\n",
       "</div>"
      ],
      "text/plain": [
       "   age     sex     bmi  children smoker     region      charges\n",
       "0   19  female  27.900         0    yes  southwest  16884.92400\n",
       "1   18    male  33.770         1     no  southeast   1725.55230\n",
       "2   28    male  33.000         3     no  southeast   4449.46200\n",
       "3   33    male  22.705         0     no  northwest  21984.47061\n",
       "4   32    male  28.880         0     no  northwest   3866.85520"
      ]
     },
     "execution_count": 26,
     "metadata": {},
     "output_type": "execute_result"
    }
   ],
   "source": [
    "data.head()"
   ]
  },
  {
   "cell_type": "code",
   "execution_count": 27,
   "id": "a4bb68d3",
   "metadata": {},
   "outputs": [
    {
     "data": {
      "text/html": [
       "<div>\n",
       "<style scoped>\n",
       "    .dataframe tbody tr th:only-of-type {\n",
       "        vertical-align: middle;\n",
       "    }\n",
       "\n",
       "    .dataframe tbody tr th {\n",
       "        vertical-align: top;\n",
       "    }\n",
       "\n",
       "    .dataframe thead th {\n",
       "        text-align: right;\n",
       "    }\n",
       "</style>\n",
       "<table border=\"1\" class=\"dataframe\">\n",
       "  <thead>\n",
       "    <tr style=\"text-align: right;\">\n",
       "      <th></th>\n",
       "      <th>age</th>\n",
       "      <th>sex</th>\n",
       "      <th>bmi</th>\n",
       "      <th>children</th>\n",
       "      <th>smoker</th>\n",
       "      <th>charges</th>\n",
       "    </tr>\n",
       "  </thead>\n",
       "  <tbody>\n",
       "    <tr>\n",
       "      <th>0</th>\n",
       "      <td>19</td>\n",
       "      <td>female</td>\n",
       "      <td>27.900</td>\n",
       "      <td>0</td>\n",
       "      <td>yes</td>\n",
       "      <td>16884.92400</td>\n",
       "    </tr>\n",
       "    <tr>\n",
       "      <th>1</th>\n",
       "      <td>18</td>\n",
       "      <td>male</td>\n",
       "      <td>33.770</td>\n",
       "      <td>1</td>\n",
       "      <td>no</td>\n",
       "      <td>1725.55230</td>\n",
       "    </tr>\n",
       "    <tr>\n",
       "      <th>2</th>\n",
       "      <td>28</td>\n",
       "      <td>male</td>\n",
       "      <td>33.000</td>\n",
       "      <td>3</td>\n",
       "      <td>no</td>\n",
       "      <td>4449.46200</td>\n",
       "    </tr>\n",
       "    <tr>\n",
       "      <th>3</th>\n",
       "      <td>33</td>\n",
       "      <td>male</td>\n",
       "      <td>22.705</td>\n",
       "      <td>0</td>\n",
       "      <td>no</td>\n",
       "      <td>21984.47061</td>\n",
       "    </tr>\n",
       "    <tr>\n",
       "      <th>4</th>\n",
       "      <td>32</td>\n",
       "      <td>male</td>\n",
       "      <td>28.880</td>\n",
       "      <td>0</td>\n",
       "      <td>no</td>\n",
       "      <td>3866.85520</td>\n",
       "    </tr>\n",
       "  </tbody>\n",
       "</table>\n",
       "</div>"
      ],
      "text/plain": [
       "   age     sex     bmi  children smoker      charges\n",
       "0   19  female  27.900         0    yes  16884.92400\n",
       "1   18    male  33.770         1     no   1725.55230\n",
       "2   28    male  33.000         3     no   4449.46200\n",
       "3   33    male  22.705         0     no  21984.47061\n",
       "4   32    male  28.880         0     no   3866.85520"
      ]
     },
     "execution_count": 27,
     "metadata": {},
     "output_type": "execute_result"
    }
   ],
   "source": [
    "#Drop the region feature#\n",
    "\n",
    "data.drop(\"region\", axis=1, inplace=True)\n",
    "data.head()"
   ]
  },
  {
   "cell_type": "markdown",
   "id": "d7a7bc4f",
   "metadata": {},
   "source": [
    "#### Convert Categorical Columns into Numerical\n",
    "\n",
    "*   We need to convert the sex column from male/female to 0/1.\n",
    "*   We need to convert the smoker column from no/yes to 0/1.\n",
    "\n",
    "\n",
    "Let's start with the sex column\n"
   ]
  },
  {
   "cell_type": "code",
   "execution_count": 28,
   "id": "0e0afc44",
   "metadata": {},
   "outputs": [
    {
     "name": "stdout",
     "output_type": "stream",
     "text": [
      "<class 'pandas.core.frame.DataFrame'>\n",
      "Int64Index: 1335 entries, 0 to 1337\n",
      "Data columns (total 6 columns):\n",
      " #   Column    Non-Null Count  Dtype  \n",
      "---  ------    --------------  -----  \n",
      " 0   age       1335 non-null   int64  \n",
      " 1   sex       1335 non-null   object \n",
      " 2   bmi       1335 non-null   float64\n",
      " 3   children  1335 non-null   int64  \n",
      " 4   smoker    1335 non-null   object \n",
      " 5   charges   1335 non-null   float64\n",
      "dtypes: float64(2), int64(2), object(2)\n",
      "memory usage: 73.0+ KB\n"
     ]
    }
   ],
   "source": [
    "data.info()"
   ]
  },
  {
   "cell_type": "code",
   "execution_count": 29,
   "id": "8e7fff59",
   "metadata": {},
   "outputs": [
    {
     "data": {
      "text/html": [
       "<div>\n",
       "<style scoped>\n",
       "    .dataframe tbody tr th:only-of-type {\n",
       "        vertical-align: middle;\n",
       "    }\n",
       "\n",
       "    .dataframe tbody tr th {\n",
       "        vertical-align: top;\n",
       "    }\n",
       "\n",
       "    .dataframe thead th {\n",
       "        text-align: right;\n",
       "    }\n",
       "</style>\n",
       "<table border=\"1\" class=\"dataframe\">\n",
       "  <thead>\n",
       "    <tr style=\"text-align: right;\">\n",
       "      <th></th>\n",
       "      <th>age</th>\n",
       "      <th>sex</th>\n",
       "      <th>bmi</th>\n",
       "      <th>children</th>\n",
       "      <th>smoker</th>\n",
       "      <th>charges</th>\n",
       "    </tr>\n",
       "  </thead>\n",
       "  <tbody>\n",
       "    <tr>\n",
       "      <th>0</th>\n",
       "      <td>19</td>\n",
       "      <td>1</td>\n",
       "      <td>27.900</td>\n",
       "      <td>0</td>\n",
       "      <td>yes</td>\n",
       "      <td>16884.92400</td>\n",
       "    </tr>\n",
       "    <tr>\n",
       "      <th>1</th>\n",
       "      <td>18</td>\n",
       "      <td>0</td>\n",
       "      <td>33.770</td>\n",
       "      <td>1</td>\n",
       "      <td>no</td>\n",
       "      <td>1725.55230</td>\n",
       "    </tr>\n",
       "    <tr>\n",
       "      <th>2</th>\n",
       "      <td>28</td>\n",
       "      <td>0</td>\n",
       "      <td>33.000</td>\n",
       "      <td>3</td>\n",
       "      <td>no</td>\n",
       "      <td>4449.46200</td>\n",
       "    </tr>\n",
       "    <tr>\n",
       "      <th>3</th>\n",
       "      <td>33</td>\n",
       "      <td>0</td>\n",
       "      <td>22.705</td>\n",
       "      <td>0</td>\n",
       "      <td>no</td>\n",
       "      <td>21984.47061</td>\n",
       "    </tr>\n",
       "    <tr>\n",
       "      <th>4</th>\n",
       "      <td>32</td>\n",
       "      <td>0</td>\n",
       "      <td>28.880</td>\n",
       "      <td>0</td>\n",
       "      <td>no</td>\n",
       "      <td>3866.85520</td>\n",
       "    </tr>\n",
       "  </tbody>\n",
       "</table>\n",
       "</div>"
      ],
      "text/plain": [
       "   age  sex     bmi  children smoker      charges\n",
       "0   19    1  27.900         0    yes  16884.92400\n",
       "1   18    0  33.770         1     no   1725.55230\n",
       "2   28    0  33.000         3     no   4449.46200\n",
       "3   33    0  22.705         0     no  21984.47061\n",
       "4   32    0  28.880         0     no   3866.85520"
      ]
     },
     "execution_count": 29,
     "metadata": {},
     "output_type": "execute_result"
    }
   ],
   "source": [
    "#Define dictionary\n",
    "gender = {\"male\":0, \"female\":1}\n",
    "\n",
    "#Replace sex column with 0/1\n",
    "data[\"sex\"] = data[\"sex\"].apply(lambda x: gender[x])\n",
    "\n",
    "#Print head to verify\n",
    "data.head()"
   ]
  },
  {
   "cell_type": "markdown",
   "id": "3d704205",
   "metadata": {},
   "source": [
    "And now, the smokers column --"
   ]
  },
  {
   "cell_type": "code",
   "execution_count": 30,
   "id": "db497895",
   "metadata": {},
   "outputs": [
    {
     "data": {
      "text/html": [
       "<div>\n",
       "<style scoped>\n",
       "    .dataframe tbody tr th:only-of-type {\n",
       "        vertical-align: middle;\n",
       "    }\n",
       "\n",
       "    .dataframe tbody tr th {\n",
       "        vertical-align: top;\n",
       "    }\n",
       "\n",
       "    .dataframe thead th {\n",
       "        text-align: right;\n",
       "    }\n",
       "</style>\n",
       "<table border=\"1\" class=\"dataframe\">\n",
       "  <thead>\n",
       "    <tr style=\"text-align: right;\">\n",
       "      <th></th>\n",
       "      <th>age</th>\n",
       "      <th>sex</th>\n",
       "      <th>bmi</th>\n",
       "      <th>children</th>\n",
       "      <th>smoker</th>\n",
       "      <th>charges</th>\n",
       "    </tr>\n",
       "  </thead>\n",
       "  <tbody>\n",
       "    <tr>\n",
       "      <th>0</th>\n",
       "      <td>19</td>\n",
       "      <td>1</td>\n",
       "      <td>27.900</td>\n",
       "      <td>0</td>\n",
       "      <td>1</td>\n",
       "      <td>16884.92400</td>\n",
       "    </tr>\n",
       "    <tr>\n",
       "      <th>1</th>\n",
       "      <td>18</td>\n",
       "      <td>0</td>\n",
       "      <td>33.770</td>\n",
       "      <td>1</td>\n",
       "      <td>0</td>\n",
       "      <td>1725.55230</td>\n",
       "    </tr>\n",
       "    <tr>\n",
       "      <th>2</th>\n",
       "      <td>28</td>\n",
       "      <td>0</td>\n",
       "      <td>33.000</td>\n",
       "      <td>3</td>\n",
       "      <td>0</td>\n",
       "      <td>4449.46200</td>\n",
       "    </tr>\n",
       "    <tr>\n",
       "      <th>3</th>\n",
       "      <td>33</td>\n",
       "      <td>0</td>\n",
       "      <td>22.705</td>\n",
       "      <td>0</td>\n",
       "      <td>0</td>\n",
       "      <td>21984.47061</td>\n",
       "    </tr>\n",
       "    <tr>\n",
       "      <th>4</th>\n",
       "      <td>32</td>\n",
       "      <td>0</td>\n",
       "      <td>28.880</td>\n",
       "      <td>0</td>\n",
       "      <td>0</td>\n",
       "      <td>3866.85520</td>\n",
       "    </tr>\n",
       "  </tbody>\n",
       "</table>\n",
       "</div>"
      ],
      "text/plain": [
       "   age  sex     bmi  children  smoker      charges\n",
       "0   19    1  27.900         0       1  16884.92400\n",
       "1   18    0  33.770         1       0   1725.55230\n",
       "2   28    0  33.000         3       0   4449.46200\n",
       "3   33    0  22.705         0       0  21984.47061\n",
       "4   32    0  28.880         0       0   3866.85520"
      ]
     },
     "execution_count": 30,
     "metadata": {},
     "output_type": "execute_result"
    }
   ],
   "source": [
    "#Define dictionary\n",
    "smokers = {\"no\":0, \"yes\":1}\n",
    "\n",
    "#Replace smokers column with 0/1\n",
    "data[\"smoker\"] = data[\"smoker\"].apply(lambda x: smokers[x])\n",
    "\n",
    "#Print head to verify\n",
    "data.head()"
   ]
  },
  {
   "cell_type": "markdown",
   "id": "ed55a570",
   "metadata": {},
   "source": [
    "#### Normalization:\n",
    "\n",
    "Let's scale all the columns by dividing by the maximum"
   ]
  },
  {
   "cell_type": "code",
   "execution_count": 31,
   "id": "8b788f53",
   "metadata": {},
   "outputs": [
    {
     "data": {
      "text/plain": [
       "age            64.00000\n",
       "sex             1.00000\n",
       "bmi            53.13000\n",
       "children        5.00000\n",
       "smoker          1.00000\n",
       "charges     63770.42801\n",
       "dtype: float64"
      ]
     },
     "execution_count": 31,
     "metadata": {},
     "output_type": "execute_result"
    }
   ],
   "source": [
    "#Get the Max of the each column#\n",
    "\n",
    "data_max = data.max()\n",
    "data_max"
   ]
  },
  {
   "cell_type": "code",
   "execution_count": 32,
   "id": "cf0764df",
   "metadata": {},
   "outputs": [
    {
     "data": {
      "text/html": [
       "<div>\n",
       "<style scoped>\n",
       "    .dataframe tbody tr th:only-of-type {\n",
       "        vertical-align: middle;\n",
       "    }\n",
       "\n",
       "    .dataframe tbody tr th {\n",
       "        vertical-align: top;\n",
       "    }\n",
       "\n",
       "    .dataframe thead th {\n",
       "        text-align: right;\n",
       "    }\n",
       "</style>\n",
       "<table border=\"1\" class=\"dataframe\">\n",
       "  <thead>\n",
       "    <tr style=\"text-align: right;\">\n",
       "      <th></th>\n",
       "      <th>age</th>\n",
       "      <th>sex</th>\n",
       "      <th>bmi</th>\n",
       "      <th>children</th>\n",
       "      <th>smoker</th>\n",
       "      <th>charges</th>\n",
       "    </tr>\n",
       "  </thead>\n",
       "  <tbody>\n",
       "    <tr>\n",
       "      <th>count</th>\n",
       "      <td>1335.000000</td>\n",
       "      <td>1335.000000</td>\n",
       "      <td>1335.000000</td>\n",
       "      <td>1335.000000</td>\n",
       "      <td>1335.000000</td>\n",
       "      <td>1335.000000</td>\n",
       "    </tr>\n",
       "    <tr>\n",
       "      <th>mean</th>\n",
       "      <td>0.612441</td>\n",
       "      <td>0.495131</td>\n",
       "      <td>0.577102</td>\n",
       "      <td>0.219476</td>\n",
       "      <td>0.205243</td>\n",
       "      <td>0.208299</td>\n",
       "    </tr>\n",
       "    <tr>\n",
       "      <th>std</th>\n",
       "      <td>0.219491</td>\n",
       "      <td>0.500164</td>\n",
       "      <td>0.114832</td>\n",
       "      <td>0.241145</td>\n",
       "      <td>0.404031</td>\n",
       "      <td>0.190041</td>\n",
       "    </tr>\n",
       "    <tr>\n",
       "      <th>min</th>\n",
       "      <td>0.281250</td>\n",
       "      <td>0.000000</td>\n",
       "      <td>0.300395</td>\n",
       "      <td>0.000000</td>\n",
       "      <td>0.000000</td>\n",
       "      <td>0.017592</td>\n",
       "    </tr>\n",
       "    <tr>\n",
       "      <th>25%</th>\n",
       "      <td>0.421875</td>\n",
       "      <td>0.000000</td>\n",
       "      <td>0.495059</td>\n",
       "      <td>0.000000</td>\n",
       "      <td>0.000000</td>\n",
       "      <td>0.074365</td>\n",
       "    </tr>\n",
       "    <tr>\n",
       "      <th>50%</th>\n",
       "      <td>0.609375</td>\n",
       "      <td>0.000000</td>\n",
       "      <td>0.572181</td>\n",
       "      <td>0.200000</td>\n",
       "      <td>0.000000</td>\n",
       "      <td>0.147187</td>\n",
       "    </tr>\n",
       "    <tr>\n",
       "      <th>75%</th>\n",
       "      <td>0.796875</td>\n",
       "      <td>1.000000</td>\n",
       "      <td>0.652880</td>\n",
       "      <td>0.400000</td>\n",
       "      <td>0.000000</td>\n",
       "      <td>0.262144</td>\n",
       "    </tr>\n",
       "    <tr>\n",
       "      <th>max</th>\n",
       "      <td>1.000000</td>\n",
       "      <td>1.000000</td>\n",
       "      <td>1.000000</td>\n",
       "      <td>1.000000</td>\n",
       "      <td>1.000000</td>\n",
       "      <td>1.000000</td>\n",
       "    </tr>\n",
       "  </tbody>\n",
       "</table>\n",
       "</div>"
      ],
      "text/plain": [
       "               age          sex          bmi     children       smoker  \\\n",
       "count  1335.000000  1335.000000  1335.000000  1335.000000  1335.000000   \n",
       "mean      0.612441     0.495131     0.577102     0.219476     0.205243   \n",
       "std       0.219491     0.500164     0.114832     0.241145     0.404031   \n",
       "min       0.281250     0.000000     0.300395     0.000000     0.000000   \n",
       "25%       0.421875     0.000000     0.495059     0.000000     0.000000   \n",
       "50%       0.609375     0.000000     0.572181     0.200000     0.000000   \n",
       "75%       0.796875     1.000000     0.652880     0.400000     0.000000   \n",
       "max       1.000000     1.000000     1.000000     1.000000     1.000000   \n",
       "\n",
       "           charges  \n",
       "count  1335.000000  \n",
       "mean      0.208299  \n",
       "std       0.190041  \n",
       "min       0.017592  \n",
       "25%       0.074365  \n",
       "50%       0.147187  \n",
       "75%       0.262144  \n",
       "max       1.000000  "
      ]
     },
     "execution_count": 32,
     "metadata": {},
     "output_type": "execute_result"
    }
   ],
   "source": [
    "#Devide each column by its maximum value#\n",
    "\n",
    "data = data.divide(data_max)\n",
    "data.describe()"
   ]
  }
 ],
 "metadata": {
  "kernelspec": {
   "display_name": "Python 3 (ipykernel)",
   "language": "python",
   "name": "python3"
  },
  "language_info": {
   "codemirror_mode": {
    "name": "ipython",
    "version": 3
   },
   "file_extension": ".py",
   "mimetype": "text/x-python",
   "name": "python",
   "nbconvert_exporter": "python",
   "pygments_lexer": "ipython3",
   "version": "3.9.7"
  }
 },
 "nbformat": 4,
 "nbformat_minor": 5
}
